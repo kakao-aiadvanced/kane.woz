{
 "cells": [
  {
   "cell_type": "code",
   "execution_count": 1,
   "metadata": {},
   "outputs": [
    {
     "data": {
      "text/plain": [
       "True"
      ]
     },
     "execution_count": 1,
     "metadata": {},
     "output_type": "execute_result"
    }
   ],
   "source": [
    "import os\n",
    "import openai\n",
    "import dotenv\n",
    "from tqdm import tqdm\n",
    "from datasets import load_dataset\n",
    "\n",
    "dotenv.load_dotenv()"
   ]
  },
  {
   "cell_type": "code",
   "execution_count": 2,
   "metadata": {},
   "outputs": [],
   "source": [
    "client = openai.OpenAI()\n",
    "\n",
    "system = {\n",
    "    \"role\": \"system\",\n",
    "    \"content\": \"\"\"\n",
    "You are famous movie reviewer. You have to determine the sentiment of the following movie reviews.\n",
    "\n",
    "If user give you a review, you have to determine the sentiment of the review. You have to answer in one word: positive or negative.\n",
    "\n",
    "Example looks like this\n",
    "1. \"The outline of these issues seems sensational to me, but not the way they are presented\": negative\n",
    "2. \"While this film has many strengths, the performances from its voice cast are what truly make it special\": positive\n",
    "3. \"A fantastic sequel which delivers the experience you want from an Inside Out film, but also finds new ways to explore emotions and puberty.\": positive\n",
    "4. \"While the original remains the gold standard for modern animation, this sequel more than justifies its existence via its empathetic themes, strong humour, and engrossing animation style.\": positive\n",
    "5. \"Inside Out 2 is an enjoyable, funny, and sometimes emotionally impactful film. But it fails to stand among Pixar’s best films because it’s too derivative of those films; and many others.\": positive\n",
    "\n",
    "Think step by step.\n",
    "\"\"\",\n",
    "}"
   ]
  },
  {
   "cell_type": "code",
   "execution_count": 3,
   "metadata": {},
   "outputs": [
    {
     "name": "stdout",
     "output_type": "stream",
     "text": [
      "negative\n"
     ]
    }
   ],
   "source": [
    "result = client.chat.completions.create(\n",
    "    model=\"gpt-4o-mini\",\n",
    "    messages=[\n",
    "        system,\n",
    "        {\n",
    "            \"role\": \"user\",\n",
    "            \"content\": \"\"\"Anyway, I doubt either Inside Out or Inside Out 2 will suffer any real cosmological analysis since it’s a soap opera…cynically? Yes, cynically centered on a child’s early development\"\"\",\n",
    "        },\n",
    "    ],\n",
    ")\n",
    "print(result.choices[0].message.content)"
   ]
  },
  {
   "cell_type": "code",
   "execution_count": 4,
   "metadata": {},
   "outputs": [
    {
     "name": "stdout",
     "output_type": "stream",
     "text": [
      "positive\n"
     ]
    }
   ],
   "source": [
    "result = client.chat.completions.create(\n",
    "    model=\"gpt-4o-mini\",\n",
    "    messages=[\n",
    "        system,\n",
    "        {\n",
    "            \"role\": \"user\",\n",
    "            \"content\": \"\"\"The backdrop of a young girl's mind provides endless avenues for invention, creating a film rich in colour, texture and a steady stream of sight gags\"\"\",\n",
    "        },\n",
    "    ],\n",
    ")\n",
    "print(result.choices[0].message.content)"
   ]
  }
 ],
 "metadata": {
  "kernelspec": {
   "display_name": "TF",
   "language": "python",
   "name": "python3"
  },
  "language_info": {
   "codemirror_mode": {
    "name": "ipython",
    "version": 3
   },
   "file_extension": ".py",
   "mimetype": "text/x-python",
   "name": "python",
   "nbconvert_exporter": "python",
   "pygments_lexer": "ipython3",
   "version": "3.10.10"
  }
 },
 "nbformat": 4,
 "nbformat_minor": 2
}
