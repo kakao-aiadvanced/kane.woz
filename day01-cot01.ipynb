{
 "cells": [
  {
   "cell_type": "code",
   "execution_count": 1,
   "metadata": {},
   "outputs": [
    {
     "data": {
      "text/plain": [
       "True"
      ]
     },
     "execution_count": 1,
     "metadata": {},
     "output_type": "execute_result"
    }
   ],
   "source": [
    "import os\n",
    "import openai\n",
    "import dotenv\n",
    "from tqdm import tqdm\n",
    "from datasets import load_dataset\n",
    "\n",
    "dotenv.load_dotenv()"
   ]
  },
  {
   "cell_type": "code",
   "execution_count": 2,
   "metadata": {},
   "outputs": [],
   "source": [
    "client = openai.OpenAI()\n",
    "\n",
    "system = {\n",
    "    \"role\": \"system\",\n",
    "    \"content\": \"\"\"\n",
    "You are skilled korean math teacher.\n",
    "User will ask you math question. then you must answer it.\n",
    "But you are the teacher, so you must answer step by step.\n",
    "\n",
    "For example:\n",
    "방정식 ((1 + 6) * 3) / (32 + 4 / 2)을 풀어주세요.\n",
    "\n",
    "1. 분모 먼저 계산합니다\n",
    "2. 곱셈, 나눗셈을 먼저 검색합니다 4 / 2 = 2\n",
    "3. 32 + 2 = 34\n",
    "4. 그 다음으로 분자를 계산합니다.\n",
    "5. 괄호 안의 숫자를 먼저 계산합니다. 1 + 6 = 7\n",
    "6. 7 * 3 = 21\n",
    "7. 21 / 34 = 0.617...\n",
    "\n",
    "\"\"\",\n",
    "}"
   ]
  },
  {
   "cell_type": "code",
   "execution_count": 3,
   "metadata": {},
   "outputs": [
    {
     "name": "stdout",
     "output_type": "stream",
     "text": [
      "주어진 방정식 ((21 + 7) / 2) / (4 * 2)을 풀어보겠습니다.\n",
      "\n",
      "1. 먼저 분모를 계산합니다.\n",
      "2. 곱셈을 먼저 계산합니다: 4 * 2 = 8\n",
      "3. 그 다음으로 분자를 계산합니다.\n",
      "4. 괄호 안의 숫자를 먼저 계산합니다: 21 + 7 = 28\n",
      "5. 그 다음 분자 전체를 계산합니다: 28 / 2 = 14\n",
      "6. 이제 전체 방정식을 계산합니다: 14 / 8 = 1.75\n",
      "\n",
      "따라서 주어진 방정식의 값은 1.75입니다.\n"
     ]
    }
   ],
   "source": [
    "result = client.chat.completions.create(\n",
    "    model=\"gpt-4o-mini\",\n",
    "    messages=[\n",
    "        system,\n",
    "        {\n",
    "            \"role\": \"user\",\n",
    "            \"content\": \"\"\"how to solve this equation? ((21 + 7) / 2) / (4 * 2)\"\"\",\n",
    "        },\n",
    "    ],\n",
    ")\n",
    "print(result.choices[0].message.content)"
   ]
  }
 ],
 "metadata": {
  "kernelspec": {
   "display_name": "TF",
   "language": "python",
   "name": "python3"
  },
  "language_info": {
   "codemirror_mode": {
    "name": "ipython",
    "version": 3
   },
   "file_extension": ".py",
   "mimetype": "text/x-python",
   "name": "python",
   "nbconvert_exporter": "python",
   "pygments_lexer": "ipython3",
   "version": "3.10.10"
  }
 },
 "nbformat": 4,
 "nbformat_minor": 2
}
