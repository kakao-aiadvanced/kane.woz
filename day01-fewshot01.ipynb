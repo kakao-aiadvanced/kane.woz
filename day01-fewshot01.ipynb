{
 "cells": [
  {
   "cell_type": "code",
   "execution_count": 4,
   "metadata": {},
   "outputs": [
    {
     "data": {
      "text/plain": [
       "True"
      ]
     },
     "execution_count": 4,
     "metadata": {},
     "output_type": "execute_result"
    }
   ],
   "source": [
    "import os\n",
    "import openai\n",
    "import dotenv\n",
    "from tqdm import tqdm\n",
    "from datasets import load_dataset\n",
    "\n",
    "dotenv.load_dotenv()"
   ]
  },
  {
   "cell_type": "code",
   "execution_count": 5,
   "metadata": {},
   "outputs": [],
   "source": [
    "client = openai.OpenAI()\n",
    "\n",
    "system = {\n",
    "    \"role\": \"system\",\n",
    "    \"content\": \"\"\"\n",
    "You are skilled english teacher who born in korea.\n",
    "If user asks for english word you answer korean word.\n",
    "\n",
    "Like this: if user asks \"apple\" you answer \"apple: 사과\"\n",
    "You must answer in korean. and both user ask and your answer.\n",
    "\n",
    "Think step by step.\n",
    "\"\"\",\n",
    "}"
   ]
  },
  {
   "cell_type": "code",
   "execution_count": 10,
   "metadata": {},
   "outputs": [
    {
     "name": "stdout",
     "output_type": "stream",
     "text": [
      "dog: 개\n"
     ]
    }
   ],
   "source": [
    "result = client.chat.completions.create(\n",
    "    model=\"gpt-4o-mini\",\n",
    "    messages=[\n",
    "        system,\n",
    "        {\n",
    "            \"role\": \"user\",\n",
    "            \"content\": \"\"\"Translate the word 'dog'\"\"\",\n",
    "        },\n",
    "    ],\n",
    ")\n",
    "print(result.choices[0].message.content)"
   ]
  }
 ],
 "metadata": {
  "kernelspec": {
   "display_name": "TF",
   "language": "python",
   "name": "python3"
  },
  "language_info": {
   "codemirror_mode": {
    "name": "ipython",
    "version": 3
   },
   "file_extension": ".py",
   "mimetype": "text/x-python",
   "name": "python",
   "nbconvert_exporter": "python",
   "pygments_lexer": "ipython3",
   "version": "3.10.10"
  }
 },
 "nbformat": 4,
 "nbformat_minor": 2
}
