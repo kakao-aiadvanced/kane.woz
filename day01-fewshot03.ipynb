{
 "cells": [
  {
   "cell_type": "code",
   "execution_count": 1,
   "metadata": {},
   "outputs": [
    {
     "data": {
      "text/plain": [
       "True"
      ]
     },
     "execution_count": 1,
     "metadata": {},
     "output_type": "execute_result"
    }
   ],
   "source": [
    "import os\n",
    "import openai\n",
    "import dotenv\n",
    "from tqdm import tqdm\n",
    "from datasets import load_dataset\n",
    "\n",
    "dotenv.load_dotenv()"
   ]
  },
  {
   "cell_type": "code",
   "execution_count": 3,
   "metadata": {},
   "outputs": [],
   "source": [
    "client = openai.OpenAI()\n",
    "\n",
    "system = {\n",
    "    \"role\": \"system\",\n",
    "    \"content\": \"\"\"\n",
    "You are senior database engineer, you are very experienced in database design and optimization.\n",
    "Your coworker ask you to help him create SQL query to get the data from the database.\n",
    "\n",
    "If user describe the problem, you answer the question with SQL.\n",
    "Give Them the SQL query to solve the problem.\n",
    "\n",
    "For example:\n",
    "- \"I want get user, who salary is more than 1000 and work in the company more than 5 years.\": \"SELECT * FROM users WHERE salary > 1000 AND work_years > 5;\"\n",
    "- \"Who to get user who dept is 'IT' or 'Engineering'\": \"SELECT * FROM users u LEFT JOIN departments d ON u.dept_id = d.dept_id WHERE d.dept_name = 'IT' OR d.dept_name = 'Engineering';\"\n",
    "- \"I want to get the user who has boss name is 'John' but recursively\": \"WITH RECURSIVE cte AS (SELECT * FROM users WHERE boss_name = 'John' UNION ALL SELECT u.* FROM users u JOIN cte ON u.boss_id = cte.user_id) SELECT * FROM cte;\"\n",
    "\n",
    "Think step by step, and give them the SQL query to solve the problem.\n",
    "\"\"\",\n",
    "}"
   ]
  },
  {
   "cell_type": "code",
   "execution_count": 4,
   "metadata": {},
   "outputs": [
    {
     "name": "stdout",
     "output_type": "stream",
     "text": [
      "To get the users with the highest salaries in the company, ordered by salary in descending order and limited to the top 5, you can use the following SQL query:\n",
      "\n",
      "```sql\n",
      "SELECT * FROM users ORDER BY salary DESC LIMIT 5;\n",
      "```\n"
     ]
    }
   ],
   "source": [
    "result = client.chat.completions.create(\n",
    "    model=\"gpt-4o-mini\",\n",
    "    messages=[\n",
    "        system,\n",
    "        {\n",
    "            \"role\": \"user\",\n",
    "            \"content\": \"\"\"how to get the user who has the highest salary in the company? order by salary and top 5 please\"\"\",\n",
    "        },\n",
    "    ],\n",
    ")\n",
    "print(result.choices[0].message.content)"
   ]
  },
  {
   "cell_type": "code",
   "execution_count": 8,
   "metadata": {},
   "outputs": [
    {
     "name": "stdout",
     "output_type": "stream",
     "text": [
      "To retrieve all users whose boss's name is 'Ann' with a recursive query limited to 2 depths, you can use the following SQL query:\n",
      "\n",
      "```sql\n",
      "WITH RECURSIVE cte AS (\n",
      "    -- Base case: Select users whose boss name is 'Ann'\n",
      "    SELECT * FROM users WHERE boss_name = 'Ann'\n",
      "    \n",
      "    UNION ALL\n",
      "    \n",
      "    -- Recursive case: Select users whose boss is in the first level of results (depth 1)\n",
      "    SELECT u.* FROM users u\n",
      "    JOIN cte ON u.boss_id = cte.user_id\n",
      ")\n",
      "SELECT * FROM cte WHERE depth <= 2; -- Ensure we limit the depth to 2\n",
      "```\n",
      "\n",
      "This query starts by selecting users with 'Ann' as their boss. Then, it recursively selects users under those users while counting the depth. It restricts the result to a depth of 2 levels. Please note that you may need to implement the depth counting in the recursive CTE, depending on your database system's capabilities.\n"
     ]
    }
   ],
   "source": [
    "result = client.chat.completions.create(\n",
    "    model=\"gpt-4o-mini\",\n",
    "    messages=[\n",
    "        system,\n",
    "        {\n",
    "            \"role\": \"user\",\n",
    "            \"content\": \"\"\"get all user who boss name is 'Ann' but recursively only 2 depth, there is no depth value so SQL must count there depth\"\"\",\n",
    "        },\n",
    "    ],\n",
    ")\n",
    "print(result.choices[0].message.content)\n",
    "# 예상처럼 동작을 안함..."
   ]
  }
 ],
 "metadata": {
  "kernelspec": {
   "display_name": "TF",
   "language": "python",
   "name": "python3"
  },
  "language_info": {
   "codemirror_mode": {
    "name": "ipython",
    "version": 3
   },
   "file_extension": ".py",
   "mimetype": "text/x-python",
   "name": "python",
   "nbconvert_exporter": "python",
   "pygments_lexer": "ipython3",
   "version": "3.10.10"
  }
 },
 "nbformat": 4,
 "nbformat_minor": 2
}
